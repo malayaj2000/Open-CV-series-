{
 "cells": [
  {
   "cell_type": "markdown",
   "metadata": {},
   "source": [
    "# Algo"
   ]
  },
  {
   "cell_type": "markdown",
   "metadata": {},
   "source": [
    "## 1. cvt rgb to gray\n",
    "\n",
    "## 2. gray invert to negative image\n",
    "\n",
    "## 3. apply gussian blur on negative image \n",
    "\n",
    "## 4. blend gray image and gussian blur negative image with color dodge\n",
    "\n",
    "### reference   https://www.askaswiss.com/2016/01/how-to-create-pencil-sketch-opencv-python.html"
   ]
  },
  {
   "cell_type": "code",
   "execution_count": 118,
   "metadata": {},
   "outputs": [],
   "source": [
    "import cv2\n",
    "img=cv2.imread('###/ image path  /#### ')"
   ]
  },
  {
   "cell_type": "code",
   "execution_count": 119,
   "metadata": {},
   "outputs": [],
   "source": [
    "def display(img):\n",
    "        cv2.imshow('window',img)\n",
    "        cv2.waitKey(0)==27\n",
    "        cv2.destroyAllWindows()\n"
   ]
  },
  {
   "cell_type": "code",
   "execution_count": 128,
   "metadata": {},
   "outputs": [],
   "source": [
    "display(img)"
   ]
  },
  {
   "cell_type": "code",
   "execution_count": 120,
   "metadata": {},
   "outputs": [],
   "source": [
    "gray=cv2.cvtColor(img,cv2.COLOR_RGB2GRAY)"
   ]
  },
  {
   "cell_type": "code",
   "execution_count": 127,
   "metadata": {},
   "outputs": [],
   "source": [
    "display(gray)"
   ]
  },
  {
   "cell_type": "code",
   "execution_count": 122,
   "metadata": {},
   "outputs": [],
   "source": [
    "#invert img\n",
    "##inv_img=255-gray\n",
    "inv_img=cv2.bitwise_not(gray)"
   ]
  },
  {
   "cell_type": "code",
   "execution_count": 123,
   "metadata": {},
   "outputs": [],
   "source": [
    "display(inv_img)"
   ]
  },
  {
   "cell_type": "code",
   "execution_count": 124,
   "metadata": {},
   "outputs": [],
   "source": [
    "#gussian blur\n",
    "GBimg=cv2.GaussianBlur(inv_img,ksize=(21,21),sigmaY=0,sigmaX=0)"
   ]
  },
  {
   "cell_type": "code",
   "execution_count": 125,
   "metadata": {},
   "outputs": [],
   "source": [
    "display(GBimg)"
   ]
  },
  {
   "cell_type": "code",
   "execution_count": 126,
   "metadata": {},
   "outputs": [],
   "source": [
    "#dodging concept\n",
    "    #  ((GBimg[idx] == 255) ? GBimg[idx] : min(255, ((gray[idx] << 8) / (255-GBimg[idx]))))\n",
    "    #  <<8 is multiplying pixel with 2^8=256\n",
    "def dodging(img,mask):\n",
    "    blend=cv2.divide(img,255-mask,scale=256)\n",
    "    return blend\n",
    "blend=dodging(gray,GBimg)\n",
    "display(blend)"
   ]
  }
 ],
 "metadata": {
  "kernelspec": {
   "display_name": "Python 3",
   "language": "python",
   "name": "python3"
  },
  "language_info": {
   "codemirror_mode": {
    "name": "ipython",
    "version": 3
   },
   "file_extension": ".py",
   "mimetype": "text/x-python",
   "name": "python",
   "nbconvert_exporter": "python",
   "pygments_lexer": "ipython3",
   "version": "3.8.3"
  }
 },
 "nbformat": 4,
 "nbformat_minor": 4
}
